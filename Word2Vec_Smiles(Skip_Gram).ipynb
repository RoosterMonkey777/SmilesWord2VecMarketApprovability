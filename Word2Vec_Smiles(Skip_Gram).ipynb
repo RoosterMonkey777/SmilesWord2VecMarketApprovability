{
  "nbformat": 4,
  "nbformat_minor": 0,
  "metadata": {
    "colab": {
      "provenance": [],
      "gpuType": "T4"
    },
    "kernelspec": {
      "name": "python3",
      "display_name": "Python 3"
    },
    "language_info": {
      "name": "python"
    },
    "accelerator": "GPU"
  },
  "cells": [
    {
      "cell_type": "markdown",
      "source": [
        "# 0. Setup"
      ],
      "metadata": {
        "id": "lVUZxGiZe2Q5"
      }
    },
    {
      "cell_type": "code",
      "source": [
        "from google.colab import drive\n",
        "drive.mount('/content/drive')"
      ],
      "metadata": {
        "colab": {
          "base_uri": "https://localhost:8080/"
        },
        "id": "y-Ytua99TAuP",
        "outputId": "d93e6d69-8cb6-43eb-b3c7-946e0163235c"
      },
      "execution_count": null,
      "outputs": [
        {
          "output_type": "stream",
          "name": "stdout",
          "text": [
            "Drive already mounted at /content/drive; to attempt to forcibly remount, call drive.mount(\"/content/drive\", force_remount=True).\n"
          ]
        }
      ]
    },
    {
      "cell_type": "code",
      "execution_count": null,
      "metadata": {
        "id": "UZA5VCzjS70T"
      },
      "outputs": [],
      "source": [
        "import random\n",
        "import numpy as np\n",
        "import pandas as pd\n",
        "import seaborn as sns\n",
        "from tqdm import tqdm\n",
        "import matplotlib.pyplot as plt\n",
        "from collections import defaultdict\n",
        "\n",
        "import torch\n",
        "import torch.nn as nn\n",
        "import torch.optim as optim\n",
        "from torch.utils.data import Dataset, DataLoader\n",
        "\n",
        "from sklearn.model_selection import train_test_split\n",
        "from sklearn.metrics import accuracy_score, precision_score, recall_score, f1_score, roc_auc_score, confusion_matrix\n",
        "\n",
        "from imblearn.over_sampling import SMOTE"
      ]
    },
    {
      "cell_type": "markdown",
      "source": [
        "# 1. Load Data"
      ],
      "metadata": {
        "id": "TdhcyY8OUhSq"
      }
    },
    {
      "cell_type": "code",
      "source": [
        "TRAIN_FILE_PATH = '/content/drive/My Drive/IND_ability_train.csv'\n",
        "TEST_FILE_PATH = '/content/drive/MyDrive/IND_ability_test.csv'"
      ],
      "metadata": {
        "id": "v6VwEVduTG3V"
      },
      "execution_count": null,
      "outputs": []
    },
    {
      "cell_type": "code",
      "source": [
        "df_train = pd.read_csv(TRAIN_FILE_PATH, usecols=['smiles', 'label'])\n",
        "smiles_train = df_train['smiles'].tolist()\n",
        "labels_train = df_train['label'].tolist()\n",
        "df_test = pd.read_csv(TEST_FILE_PATH, usecols=['smiles', 'label'])\n",
        "smiles_test = df_test['smiles'].tolist()\n",
        "labels_test = df_test['label'].tolist()\n",
        "\n",
        "print(f\"Loaded {len(smiles_train)} training SMILES, {len(smiles_test)} test SMILES.\")"
      ],
      "metadata": {
        "colab": {
          "base_uri": "https://localhost:8080/"
        },
        "id": "pIudLsaETsx9",
        "outputId": "f2a2f2c9-e440-43ae-97b9-391229fd8b6a"
      },
      "execution_count": null,
      "outputs": [
        {
          "output_type": "stream",
          "name": "stdout",
          "text": [
            "Loaded 24597 training SMILES, 2732 test SMILES.\n"
          ]
        }
      ]
    },
    {
      "cell_type": "markdown",
      "source": [
        "# 2. Tokenization"
      ],
      "metadata": {
        "id": "jsbbkwT4Uk5h"
      }
    },
    {
      "cell_type": "code",
      "source": [
        "def tokenize_smiles(smiles_str):\n",
        "    \"\"\"\n",
        "    Convert a SMILES string to a list of single-character tokens.\n",
        "    e.g., 'CC(=O)' -> ['C','C','(','=','O',')']\n",
        "    \"\"\"\n",
        "    return list(smiles_str.strip())"
      ],
      "metadata": {
        "id": "s_925fuwTzoN"
      },
      "execution_count": null,
      "outputs": []
    },
    {
      "cell_type": "code",
      "source": [
        "# Tokenize train/test sets\n",
        "tokenized_train = [tokenize_smiles(s) for s in smiles_train]\n",
        "tokenized_test = [tokenize_smiles(s) for s in smiles_test]"
      ],
      "metadata": {
        "id": "oYN8bUTwUq6V"
      },
      "execution_count": null,
      "outputs": []
    },
    {
      "cell_type": "markdown",
      "source": [
        "# 3. Build Vocabulary"
      ],
      "metadata": {
        "id": "oiu-LUM8U5bV"
      }
    },
    {
      "cell_type": "code",
      "source": [
        "def build_vocab(tokenized_data):\n",
        "    \"\"\"\n",
        "    Takes a list of token lists and builds:\n",
        "      - token_to_idx: dict mapping token -> int\n",
        "      - idx_to_token: dict mapping int -> token\n",
        "    \"\"\"\n",
        "    token_freq = defaultdict(int)\n",
        "    # print(token_freq)\n",
        "\n",
        "    # Count frequencies across all SMILES\n",
        "    for tokens in tokenized_data:\n",
        "        for t in tokens:\n",
        "            token_freq[t] += 1\n",
        "    # print(token_freq)\n",
        "\n",
        "    # Sort tokens by descending frequency\n",
        "    sorted_tokens = sorted(token_freq.keys(), key=lambda x: -token_freq[x])\n",
        "\n",
        "    token_to_idx = {}\n",
        "    idx_to_token = {}\n",
        "\n",
        "    for i, token in enumerate(sorted_tokens):\n",
        "        token_to_idx[token] = i\n",
        "        idx_to_token[i] = token\n",
        "\n",
        "    return token_to_idx, idx_to_token"
      ],
      "metadata": {
        "id": "hW90ym_fUuTJ"
      },
      "execution_count": null,
      "outputs": []
    },
    {
      "cell_type": "code",
      "source": [
        "# Build vocab from the TRAIN set only\n",
        "token_to_idx, idx_to_token = build_vocab(tokenized_train)\n",
        "vocab_size = len(token_to_idx)\n",
        "\n",
        "print(f\"Vocab size = {vocab_size}\")"
      ],
      "metadata": {
        "colab": {
          "base_uri": "https://localhost:8080/"
        },
        "id": "dF1_mbumVMRC",
        "outputId": "0f609435-c71d-4599-cdc3-b7764c6201a0"
      },
      "execution_count": null,
      "outputs": [
        {
          "output_type": "stream",
          "name": "stdout",
          "text": [
            "Vocab size = 43\n"
          ]
        }
      ]
    },
    {
      "cell_type": "markdown",
      "source": [
        "# 4. Create SKIP-GRAM Pairs"
      ],
      "metadata": {
        "id": "FsZtvQ2dVUR7"
      }
    },
    {
      "cell_type": "code",
      "source": [
        "def generate_skipgram_pairs(tokenized_data, token_to_idx, window_size=2):\n",
        "    \"\"\"\n",
        "    Creates (target, context) pairs for skip-gram training.\n",
        "    For each token in a SMILES, we take 'window_size' tokens to the left\n",
        "    and right as its context (if they exist).\n",
        "    \"\"\"\n",
        "    pairs = []\n",
        "\n",
        "    for tokens in tokenized_data:\n",
        "        indices = [token_to_idx[t] for t in tokens if t in token_to_idx]\n",
        "        for i, target_idx in enumerate(indices):\n",
        "            # Identify context positions\n",
        "            start = max(0, i - window_size)\n",
        "            end   = min(len(indices), i + window_size + 1)\n",
        "\n",
        "            for j in range(start, end):\n",
        "                if j != i:\n",
        "                    context_idx = indices[j]\n",
        "                    pairs.append((target_idx, context_idx))\n",
        "\n",
        "    return pairs"
      ],
      "metadata": {
        "id": "EJ520AmOVUpR"
      },
      "execution_count": null,
      "outputs": []
    },
    {
      "cell_type": "code",
      "source": [
        "skipgram_pairs_train = generate_skipgram_pairs(tokenized_train, token_to_idx, window_size=2)\n",
        "print(f\"Number of (target, context) pairs in training set: {len(skipgram_pairs_train)}\")"
      ],
      "metadata": {
        "colab": {
          "base_uri": "https://localhost:8080/"
        },
        "id": "ual3dBp8VcHj",
        "outputId": "cabcbd03-9233-4c8b-fa88-ebb82aaa681b"
      },
      "execution_count": null,
      "outputs": [
        {
          "output_type": "stream",
          "name": "stdout",
          "text": [
            "Number of (target, context) pairs in training set: 5252830\n"
          ]
        }
      ]
    },
    {
      "cell_type": "markdown",
      "source": [
        "# 5. Define SKIP-GRAM Model (with Negative Sampling)"
      ],
      "metadata": {
        "id": "GD1ZsqIiVtic"
      }
    },
    {
      "cell_type": "code",
      "source": [
        "class SkipGramNegativeSampling(nn.Module):\n",
        "    def __init__(self, vocab_size, embedding_dim):\n",
        "        \"\"\"\n",
        "        We maintain two embeddings:\n",
        "          - embedding_v: for 'target' words\n",
        "          - embedding_u: for 'context' words\n",
        "        \"\"\"\n",
        "        super(SkipGramNegativeSampling, self).__init__()\n",
        "        self.vocab_size = vocab_size\n",
        "        self.embedding_dim = embedding_dim\n",
        "\n",
        "        self.embedding_v = nn.Embedding(vocab_size, embedding_dim)  # target embedding\n",
        "        self.embedding_u = nn.Embedding(vocab_size, embedding_dim)  # context embedding\n",
        "\n",
        "        nn.init.xavier_uniform_(self.embedding_v.weight)\n",
        "        nn.init.xavier_uniform_(self.embedding_u.weight)\n",
        "\n",
        "    def forward(self, target_idxs, context_idxs, negative_idxs):\n",
        "        \"\"\"\n",
        "        Inputs:\n",
        "          target_idxs: (batch_size)\n",
        "          context_idxs: (batch_size)\n",
        "          negative_idxs: (batch_size, K) => K negative samples per target\n",
        "        Returns:\n",
        "          pos_score: (batch_size)   => dot(target, context)\n",
        "          neg_score: (batch_size,K) => dot(target, negative_k)\n",
        "        \"\"\"\n",
        "        # Retrieve embeddings for targets and contexts\n",
        "        v = self.embedding_v(target_idxs)       # (batch_size, embed_dim)\n",
        "        u = self.embedding_u(context_idxs)      # (batch_size, embed_dim)\n",
        "\n",
        "        # Positive score\n",
        "        pos_score = torch.sum(v * u, dim=1)     # dot product row-wise => (batch_size)\n",
        "\n",
        "        # Negative embeddings => shape (batch_size, K, embed_dim)\n",
        "        neg_u = self.embedding_u(negative_idxs)\n",
        "\n",
        "        # Expand v for broadcasting => (batch_size, 1, embed_dim)\n",
        "        v = v.unsqueeze(1)\n",
        "        # Dot with each negative embedding => (batch_size, K)\n",
        "        neg_score = torch.sum(v * neg_u, dim=2)\n",
        "\n",
        "        return pos_score, neg_score"
      ],
      "metadata": {
        "id": "iJvKeevIVe79"
      },
      "execution_count": null,
      "outputs": []
    },
    {
      "cell_type": "code",
      "source": [
        "def negative_sampling_loss(pos_score, neg_score):\n",
        "    \"\"\"\n",
        "    Negative sampling loss:\n",
        "      - Maximize log(sigmoid(pos_score))\n",
        "      - Maximize log(sigmoid(-neg_score)) for negative samples\n",
        "    \"\"\"\n",
        "    # pos_score: (batch_size)\n",
        "    # neg_score: (batch_size, K)\n",
        "\n",
        "    # Avoid log(0)\n",
        "    eps = 1e-9\n",
        "\n",
        "    # Positive part: log(sigmoid(pos_score))\n",
        "    pos_loss = -torch.log(torch.sigmoid(pos_score) + eps)\n",
        "\n",
        "    # Negative part: sum of log(sigmoid(-neg_score)) over K negative samples\n",
        "    neg_loss = -torch.sum(torch.log(torch.sigmoid(-neg_score) + eps), dim=1)\n",
        "\n",
        "    return torch.mean(pos_loss + neg_loss)"
      ],
      "metadata": {
        "id": "r4R2trMGV0AN"
      },
      "execution_count": null,
      "outputs": []
    },
    {
      "cell_type": "markdown",
      "source": [
        "# 6. Training The Model"
      ],
      "metadata": {
        "id": "PxZrreUhV1z2"
      }
    },
    {
      "cell_type": "code",
      "source": [
        "# Hyperparameters\n",
        "embedding_dim   = 50   # size of embedding vectors\n",
        "epochs          = 5\n",
        "batch_size      = 64\n",
        "neg_sample_size = 5    # K negative samples per example\n",
        "learning_rate   = 0.01\n",
        "\n",
        "device = torch.device(\"cuda\" if torch.cuda.is_available() else \"cpu\")\n",
        "print(f\"Using device: {device}\")\n",
        "\n",
        "model = SkipGramNegativeSampling(vocab_size, embedding_dim).to(device)\n",
        "optimizer = optim.Adam(model.parameters(), lr=learning_rate)\n",
        "\n",
        "# Convert skipgram pairs to numpy array for easy mini-batching\n",
        "pairs_arr = np.array(skipgram_pairs_train)\n",
        "num_batches = len(pairs_arr) // batch_size\n",
        "\n",
        "print(\"Starting training...\")\n",
        "for epoch in range(epochs):\n",
        "    np.random.shuffle(pairs_arr)\n",
        "    total_loss = 0.0\n",
        "    progress_bar = tqdm(range(num_batches), desc=f\"Epoch {epoch+1}/{epochs}\", leave=False)\n",
        "\n",
        "    for i in progress_bar:\n",
        "        batch_pairs = pairs_arr[i * batch_size: (i + 1) * batch_size]\n",
        "\n",
        "        # Convert batch data to tensors and move to GPU\n",
        "        target_idxs = torch.LongTensor(batch_pairs[:, 0]).to(device)\n",
        "        context_idxs = torch.LongTensor(batch_pairs[:, 1]).to(device)\n",
        "\n",
        "        # Sample negative examples\n",
        "        negative_idxs = []\n",
        "        for _ in range(batch_size):\n",
        "            negs = np.random.choice(vocab_size, neg_sample_size, replace=False)\n",
        "            negative_idxs.append(negs)\n",
        "        negative_idxs = torch.LongTensor(negative_idxs).to(device)\n",
        "\n",
        "        pos_score, neg_score = model(target_idxs, context_idxs, negative_idxs)\n",
        "        loss = negative_sampling_loss(pos_score, neg_score)\n",
        "\n",
        "        optimizer.zero_grad()\n",
        "        loss.backward()\n",
        "        optimizer.step()\n",
        "\n",
        "        total_loss += loss.item()\n",
        "        progress_bar.set_postfix(loss=loss.item())\n",
        "\n",
        "    avg_loss = total_loss / num_batches if num_batches > 0 else 0\n",
        "    print(f\"Epoch {epoch+1}/{epochs} completed. Avg Loss: {avg_loss:.4f}\")"
      ],
      "metadata": {
        "colab": {
          "base_uri": "https://localhost:8080/"
        },
        "id": "ly5u2GEjV2Ip",
        "outputId": "e2cf94d2-8e8b-4271-caad-95b63df6a8fd"
      },
      "execution_count": null,
      "outputs": [
        {
          "output_type": "stream",
          "name": "stdout",
          "text": [
            "Using device: cuda\n",
            "Starting training...\n"
          ]
        },
        {
          "output_type": "stream",
          "name": "stderr",
          "text": []
        },
        {
          "output_type": "stream",
          "name": "stdout",
          "text": [
            "Epoch 1/5 completed. Avg Loss: 1.5321\n"
          ]
        },
        {
          "output_type": "stream",
          "name": "stderr",
          "text": []
        },
        {
          "output_type": "stream",
          "name": "stdout",
          "text": [
            "Epoch 2/5 completed. Avg Loss: 1.5299\n"
          ]
        },
        {
          "output_type": "stream",
          "name": "stderr",
          "text": []
        },
        {
          "output_type": "stream",
          "name": "stdout",
          "text": [
            "Epoch 3/5 completed. Avg Loss: 1.5292\n"
          ]
        },
        {
          "output_type": "stream",
          "name": "stderr",
          "text": []
        },
        {
          "output_type": "stream",
          "name": "stdout",
          "text": [
            "Epoch 4/5 completed. Avg Loss: 1.5289\n"
          ]
        },
        {
          "output_type": "stream",
          "name": "stderr",
          "text": [
            "                                                                            "
          ]
        },
        {
          "output_type": "stream",
          "name": "stdout",
          "text": [
            "Epoch 5/5 completed. Avg Loss: 1.5288\n"
          ]
        },
        {
          "output_type": "stream",
          "name": "stderr",
          "text": [
            "\r"
          ]
        }
      ]
    },
    {
      "cell_type": "markdown",
      "source": [
        "# 7. Extract Word2Vec Embeddings"
      ],
      "metadata": {
        "id": "7OPk0hKef6Tu"
      }
    },
    {
      "cell_type": "code",
      "source": [
        "def smiles_to_embedding(smiles_str, model, token_to_idx):\n",
        "    \"\"\"\n",
        "    Converts a SMILES string to an average of its token embeddings\n",
        "    (character-level).\n",
        "    Returns a numpy array of shape (embedding_dim,).\n",
        "    \"\"\"\n",
        "    tokens = tokenize_smiles(smiles_str)\n",
        "    vectors = []\n",
        "    for t in tokens:\n",
        "        if t in token_to_idx:\n",
        "            idx = token_to_idx[t]\n",
        "            # Extract the learned target embedding\n",
        "            emb = model.embedding_v.weight[idx].detach().cpu().numpy()\n",
        "            vectors.append(emb)\n",
        "\n",
        "    if len(vectors) == 0:\n",
        "        # If no valid tokens found, return zero vector\n",
        "        return np.zeros(model.embedding_dim)\n",
        "    else:\n",
        "        return np.mean(vectors, axis=0)"
      ],
      "metadata": {
        "id": "LYcJzy3uemVq"
      },
      "execution_count": null,
      "outputs": []
    },
    {
      "cell_type": "code",
      "source": [
        "train_embeddings = []\n",
        "for s in smiles_train:\n",
        "    vec = smiles_to_embedding(s, model, token_to_idx)\n",
        "    train_embeddings.append(vec)\n",
        "\n",
        "test_embeddings = []\n",
        "for s in smiles_test:\n",
        "    vec = smiles_to_embedding(s, model, token_to_idx)\n",
        "    test_embeddings.append(vec)\n",
        "\n",
        "print(f\"Train set embeddings shape: {len(train_embeddings)} x {len(train_embeddings[0]) if train_embeddings else 'unknown'}\")\n",
        "print(f\"Test set embeddings shape:  {len(test_embeddings)} x {len(test_embeddings[0]) if test_embeddings else 'unknown'}\")"
      ],
      "metadata": {
        "colab": {
          "base_uri": "https://localhost:8080/"
        },
        "id": "CGDr335heo32",
        "outputId": "8d50b88d-6dae-4c6d-f146-7c09c4708bbc"
      },
      "execution_count": null,
      "outputs": [
        {
          "output_type": "stream",
          "name": "stdout",
          "text": [
            "Train set embeddings shape: 24597 x 50\n",
            "Test set embeddings shape:  2732 x 50\n"
          ]
        }
      ]
    },
    {
      "cell_type": "code",
      "source": [
        "train_embeddings = np.array(train_embeddings)  # shape: (num_train, embedding_dim)\n",
        "test_embeddings  = np.array(test_embeddings)   # shape: (num_test, embedding_dim)\n",
        "\n",
        "# Convert labels to numpy if not already\n",
        "labels_train_np = np.array(labels_train)\n",
        "labels_test_np  = np.array(labels_test)\n",
        "\n",
        "# Split test into validation and final test sets (50% val, 50% test)\n",
        "val_embeddings, final_test_embeddings, val_labels, final_test_labels = train_test_split(\n",
        "    test_embeddings, labels_test_np, test_size=0.5, random_state=42, stratify=labels_test_np\n",
        ")"
      ],
      "metadata": {
        "id": "SaGZfwZIfjpQ"
      },
      "execution_count": null,
      "outputs": []
    },
    {
      "cell_type": "code",
      "source": [
        "# Apply SMOTE to training set\n",
        "smote = SMOTE(random_state=42)\n",
        "train_embeddings_resampled, labels_train_resampled = smote.fit_resample(train_embeddings, labels_train_np)\n",
        "\n",
        "print(f\"Original class distribution: {np.bincount(labels_train_np)}\")\n",
        "print(f\"Resampled class distribution: {np.bincount(labels_train_resampled)}\")"
      ],
      "metadata": {
        "colab": {
          "base_uri": "https://localhost:8080/"
        },
        "id": "8dIQHvqGo3Od",
        "outputId": "4ff569f9-aae2-4100-e428-c00ca94054b7"
      },
      "execution_count": null,
      "outputs": [
        {
          "output_type": "stream",
          "name": "stdout",
          "text": [
            "Original class distribution: [16155  8442]\n",
            "Resampled class distribution: [16155 16155]\n"
          ]
        }
      ]
    },
    {
      "cell_type": "markdown",
      "source": [
        "# 8. Define a DATASET/LOADER For The MLP"
      ],
      "metadata": {
        "id": "Z8wu8g5Mf2xk"
      }
    },
    {
      "cell_type": "code",
      "source": [
        "class EmbeddingDataset(Dataset):\n",
        "    def __init__(self, embeddings, labels):\n",
        "        self.embeddings = embeddings\n",
        "        self.labels = labels\n",
        "\n",
        "    def __len__(self):\n",
        "        return len(self.embeddings)\n",
        "\n",
        "    def __getitem__(self, idx):\n",
        "        x = self.embeddings[idx]\n",
        "        y = self.labels[idx]\n",
        "        return torch.tensor(x, dtype=torch.float32), torch.tensor(y, dtype=torch.float32)"
      ],
      "metadata": {
        "id": "dt0XeMujfj9i"
      },
      "execution_count": null,
      "outputs": []
    },
    {
      "cell_type": "code",
      "source": [
        "train_dataset = EmbeddingDataset(train_embeddings, labels_train_np)\n",
        "resampled_dataset = EmbeddingDataset(train_embeddings_resampled, labels_train_resampled)\n",
        "# test_dataset  = EmbeddingDataset(test_embeddings,  labels_test_np)\n",
        "val_dataset = EmbeddingDataset(val_embeddings, val_labels)\n",
        "final_test_dataset = EmbeddingDataset(final_test_embeddings, final_test_labels)\n",
        "\n",
        "train_loader = DataLoader(train_dataset, batch_size=32, shuffle=True)\n",
        "resampled_loader = DataLoader(resampled_dataset, batch_size=32, shuffle=True)\n",
        "# test_loader  = DataLoader(test_dataset,  batch_size=32, shuffle=False)\n",
        "val_loader = DataLoader(val_dataset, batch_size=32, shuffle=False)\n",
        "final_test_loader = DataLoader(final_test_dataset, batch_size=32, shuffle=False)"
      ],
      "metadata": {
        "id": "HH45DQpXnUbx"
      },
      "execution_count": null,
      "outputs": []
    },
    {
      "cell_type": "markdown",
      "source": [
        "# 9. Define The MLP Classifier & Train\n"
      ],
      "metadata": {
        "id": "qvKuwMB3gPyD"
      }
    },
    {
      "cell_type": "code",
      "source": [
        "class MLPClassifier(nn.Module):\n",
        "    def __init__(self, input_dim):\n",
        "        super(MLPClassifier, self).__init__()\n",
        "        self.layers = nn.Sequential(\n",
        "            nn.Linear(input_dim, 1024), nn.ReLU(), nn.Dropout(0.2),\n",
        "            nn.Linear(1024, 512), nn.ReLU(), nn.Dropout(0.2),\n",
        "            nn.Linear(512, 256), nn.ReLU(), nn.Dropout(0.2),\n",
        "            nn.Linear(256, 128), nn.ReLU(), nn.Dropout(0.2),\n",
        "            nn.Linear(128, 64), nn.ReLU(), nn.Dropout(0.2),\n",
        "            nn.Linear(64, 32), nn.ReLU(), nn.Dropout(0.2),\n",
        "            nn.Linear(32, 8), nn.ReLU(), nn.Dropout(0.2),\n",
        "            nn.Linear(8, 1),\n",
        "            nn.Sigmoid()\n",
        "        )\n",
        "\n",
        "    def forward(self, x):\n",
        "        return self.layers(x).view(-1)  # shape: (batch,)"
      ],
      "metadata": {
        "id": "k-GyenNufp1C"
      },
      "execution_count": null,
      "outputs": []
    },
    {
      "cell_type": "code",
      "source": [
        "def train_and_evaluate_model(train_loader, val_loader, test_loader, input_dim, epochs=20, lr=0.001, plot_loss=True):\n",
        "    model = MLPClassifier(input_dim).to(device)\n",
        "    optimizer = torch.optim.Adam(model.parameters(), lr=lr)\n",
        "    criterion = nn.BCELoss()\n",
        "\n",
        "    train_losses = []\n",
        "    val_losses = []\n",
        "\n",
        "    for epoch in range(epochs):\n",
        "        model.train()\n",
        "        total_loss = 0.0\n",
        "        for batch_x, batch_y in tqdm(train_loader, desc=f\"Epoch {epoch+1}/{epochs} [Train]\", leave=False):\n",
        "            batch_x, batch_y = batch_x.to(device), batch_y.to(device)\n",
        "            preds = model(batch_x)\n",
        "            loss = criterion(preds, batch_y)\n",
        "\n",
        "            optimizer.zero_grad()\n",
        "            loss.backward()\n",
        "            optimizer.step()\n",
        "\n",
        "            total_loss += loss.item() * len(batch_x)\n",
        "        train_losses.append(total_loss / len(train_loader.dataset))\n",
        "\n",
        "        # Validation\n",
        "        model.eval()\n",
        "        val_loss = 0.0\n",
        "        with torch.no_grad():\n",
        "            for batch_x, batch_y in val_loader:\n",
        "                batch_x, batch_y = batch_x.to(device), batch_y.to(device)\n",
        "                preds = model(batch_x)\n",
        "                loss = criterion(preds, batch_y)\n",
        "                val_loss += loss.item() * len(batch_x)\n",
        "        val_losses.append(val_loss / len(val_loader.dataset))\n",
        "\n",
        "        print(f\"Epoch {epoch+1} | Train Loss: {train_losses[-1]:.4f} | Val Loss: {val_losses[-1]:.4f}\")\n",
        "\n",
        "    # Plot loss\n",
        "    if plot_loss:\n",
        "        plt.figure(figsize=(7, 4))\n",
        "        plt.plot(train_losses, label=\"Train Loss\")\n",
        "        plt.plot(val_losses, label=\"Val Loss\")\n",
        "        plt.xlabel(\"Epoch\")\n",
        "        plt.ylabel(\"Loss\")\n",
        "        plt.title(\"Training vs Validation Loss\")\n",
        "        plt.legend()\n",
        "        plt.tight_layout()\n",
        "        plt.grid(True)\n",
        "        plt.show()\n",
        "\n",
        "    # Evaluate on test set\n",
        "    model.eval()\n",
        "    all_preds = []\n",
        "    all_probs = []\n",
        "    all_targets = []\n",
        "    with torch.no_grad():\n",
        "        for batch_x, batch_y in test_loader:\n",
        "            batch_x = batch_x.to(device)\n",
        "            probs = model(batch_x).cpu()\n",
        "            preds = (probs >= 0.5).float()\n",
        "\n",
        "            all_probs.extend(probs.numpy())\n",
        "            all_preds.extend(preds.numpy())\n",
        "            all_targets.extend(batch_y.numpy())\n",
        "\n",
        "    # Metrics\n",
        "    all_preds = np.array(all_preds)\n",
        "    all_probs = np.array(all_probs)\n",
        "    all_targets = np.array(all_targets)\n",
        "\n",
        "    acc = accuracy_score(all_targets, all_preds)\n",
        "    prec = precision_score(all_targets, all_preds)\n",
        "    rec = recall_score(all_targets, all_preds)\n",
        "    f1 = f1_score(all_targets, all_preds)\n",
        "    roc = roc_auc_score(all_targets, all_probs)\n",
        "    cm = confusion_matrix(all_targets, all_preds)\n",
        "\n",
        "    print(\"\\nFinal Evaluation:\")\n",
        "    print(f\"Accuracy     : {acc:.4f}\")\n",
        "    print(f\"Precision    : {prec:.4f}\")\n",
        "    print(f\"Recall       : {rec:.4f}\")\n",
        "    print(f\"F1 Score     : {f1:.4f}\")\n",
        "    print(f\"ROC AUC      : {roc:.4f}\")\n",
        "    # Confusion Matrix\n",
        "    plt.figure(figsize=(3, 2))\n",
        "    sns.heatmap(cm, annot=True, fmt=\"d\", cmap=\"Blues\", xticklabels=[\"Pred 0\", \"Pred 1\"], yticklabels=[\"True 0\", \"True 1\"])\n",
        "    plt.xlabel(\"Predicted Label\")\n",
        "    plt.ylabel(\"True Label\")\n",
        "    plt.title(\"Confusion Matrix (Test Set)\")\n",
        "    plt.tight_layout()\n",
        "    plt.show()\n",
        "\n",
        "    return {\n",
        "        \"accuracy\": acc,\n",
        "        \"precision\": prec,\n",
        "        \"recall\": rec,\n",
        "        \"f1\": f1,\n",
        "        \"roc_auc\": roc,\n",
        "    }"
      ],
      "metadata": {
        "id": "l-GujLCVgTzi"
      },
      "execution_count": null,
      "outputs": []
    },
    {
      "cell_type": "code",
      "source": [
        "print(\"Training on original imbalanced data:\")\n",
        "metrics_baseline = train_and_evaluate_model(train_loader, val_loader, final_test_loader, embedding_dim)\n",
        "print(\"==============================================================================\")\n",
        "print(\"\\n Training on SMOTE-resampled data:\")\n",
        "metrics_smote = train_and_evaluate_model(resampled_loader, val_loader, final_test_loader, embedding_dim)"
      ],
      "metadata": {
        "colab": {
          "base_uri": "https://localhost:8080/",
          "height": 1000
        },
        "id": "DZZ6K2XMpiP0",
        "outputId": "bec084e2-df09-48fc-81f6-5b17fe9d70db"
      },
      "execution_count": null,
      "outputs": [
        {
          "output_type": "stream",
          "name": "stdout",
          "text": [
            "Training on original imbalanced data:\n"
          ]
        },
        {
          "output_type": "stream",
          "name": "stderr",
          "text": []
        },
        {
          "output_type": "stream",
          "name": "stdout",
          "text": [
            "Epoch 1 | Train Loss: 0.6269 | Val Loss: 0.6093\n"
          ]
        },
        {
          "output_type": "stream",
          "name": "stderr",
          "text": []
        },
        {
          "output_type": "stream",
          "name": "stdout",
          "text": [
            "Epoch 2 | Train Loss: 0.6062 | Val Loss: 0.6030\n"
          ]
        },
        {
          "output_type": "stream",
          "name": "stderr",
          "text": []
        },
        {
          "output_type": "stream",
          "name": "stdout",
          "text": [
            "Epoch 3 | Train Loss: 0.5982 | Val Loss: 0.5982\n"
          ]
        },
        {
          "output_type": "stream",
          "name": "stderr",
          "text": []
        },
        {
          "output_type": "stream",
          "name": "stdout",
          "text": [
            "Epoch 4 | Train Loss: 0.5927 | Val Loss: 0.6007\n"
          ]
        },
        {
          "output_type": "stream",
          "name": "stderr",
          "text": []
        },
        {
          "output_type": "stream",
          "name": "stdout",
          "text": [
            "Epoch 5 | Train Loss: 0.5867 | Val Loss: 0.5912\n"
          ]
        },
        {
          "output_type": "stream",
          "name": "stderr",
          "text": []
        },
        {
          "output_type": "stream",
          "name": "stdout",
          "text": [
            "Epoch 6 | Train Loss: 0.5839 | Val Loss: 0.5838\n"
          ]
        },
        {
          "output_type": "stream",
          "name": "stderr",
          "text": []
        },
        {
          "output_type": "stream",
          "name": "stdout",
          "text": [
            "Epoch 7 | Train Loss: 0.5785 | Val Loss: 0.5841\n"
          ]
        },
        {
          "output_type": "stream",
          "name": "stderr",
          "text": []
        },
        {
          "output_type": "stream",
          "name": "stdout",
          "text": [
            "Epoch 8 | Train Loss: 0.5761 | Val Loss: 0.5791\n"
          ]
        },
        {
          "output_type": "stream",
          "name": "stderr",
          "text": []
        },
        {
          "output_type": "stream",
          "name": "stdout",
          "text": [
            "Epoch 9 | Train Loss: 0.5677 | Val Loss: 0.5854\n"
          ]
        },
        {
          "output_type": "stream",
          "name": "stderr",
          "text": []
        },
        {
          "output_type": "stream",
          "name": "stdout",
          "text": [
            "Epoch 10 | Train Loss: 0.5658 | Val Loss: 0.5717\n"
          ]
        },
        {
          "output_type": "stream",
          "name": "stderr",
          "text": []
        },
        {
          "output_type": "stream",
          "name": "stdout",
          "text": [
            "Epoch 11 | Train Loss: 0.5600 | Val Loss: 0.5627\n"
          ]
        },
        {
          "output_type": "stream",
          "name": "stderr",
          "text": []
        },
        {
          "output_type": "stream",
          "name": "stdout",
          "text": [
            "Epoch 12 | Train Loss: 0.5567 | Val Loss: 0.5607\n"
          ]
        },
        {
          "output_type": "stream",
          "name": "stderr",
          "text": []
        },
        {
          "output_type": "stream",
          "name": "stdout",
          "text": [
            "Epoch 13 | Train Loss: 0.5530 | Val Loss: 0.5702\n"
          ]
        },
        {
          "output_type": "stream",
          "name": "stderr",
          "text": []
        },
        {
          "output_type": "stream",
          "name": "stdout",
          "text": [
            "Epoch 14 | Train Loss: 0.5502 | Val Loss: 0.5606\n"
          ]
        },
        {
          "output_type": "stream",
          "name": "stderr",
          "text": []
        },
        {
          "output_type": "stream",
          "name": "stdout",
          "text": [
            "Epoch 15 | Train Loss: 0.5488 | Val Loss: 0.5737\n"
          ]
        },
        {
          "output_type": "stream",
          "name": "stderr",
          "text": []
        },
        {
          "output_type": "stream",
          "name": "stdout",
          "text": [
            "Epoch 16 | Train Loss: 0.5441 | Val Loss: 0.5648\n"
          ]
        },
        {
          "output_type": "stream",
          "name": "stderr",
          "text": []
        },
        {
          "output_type": "stream",
          "name": "stdout",
          "text": [
            "Epoch 17 | Train Loss: 0.5435 | Val Loss: 0.5527\n"
          ]
        },
        {
          "output_type": "stream",
          "name": "stderr",
          "text": []
        },
        {
          "output_type": "stream",
          "name": "stdout",
          "text": [
            "Epoch 18 | Train Loss: 0.5422 | Val Loss: 0.5704\n"
          ]
        },
        {
          "output_type": "stream",
          "name": "stderr",
          "text": []
        },
        {
          "output_type": "stream",
          "name": "stdout",
          "text": [
            "Epoch 19 | Train Loss: 0.5414 | Val Loss: 0.5509\n"
          ]
        },
        {
          "output_type": "stream",
          "name": "stderr",
          "text": []
        },
        {
          "output_type": "stream",
          "name": "stdout",
          "text": [
            "Epoch 20 | Train Loss: 0.5340 | Val Loss: 0.5623\n"
          ]
        },
        {
          "output_type": "display_data",
          "data": {
            "text/plain": [
              "<Figure size 700x400 with 1 Axes>"
            ],
            "image/png": "[encoded data removed]"
          },
          "metadata": {}
        },
        {
          "output_type": "stream",
          "name": "stdout",
          "text": [
            "\n",
            "Final Evaluation:\n",
            "Accuracy     : 0.7328\n",
            "Precision    : 0.6156\n",
            "Recall       : 0.6038\n",
            "F1 Score     : 0.6096\n",
            "ROC AUC      : 0.7949\n"
          ]
        },
        {
          "output_type": "display_data",
          "data": {
            "text/plain": [
              "<Figure size 300x200 with 2 Axes>"
            ],
            "image/png": "[encoded data removed]"
          },
          "metadata": {}
        },
        {
          "output_type": "stream",
          "name": "stdout",
          "text": [
            "==============================================================================\n",
            "\n",
            " Training on SMOTE-resampled data:\n"
          ]
        },
        {
          "output_type": "stream",
          "name": "stderr",
          "text": []
        },
        {
          "output_type": "stream",
          "name": "stdout",
          "text": [
            "Epoch 1 | Train Loss: 0.6681 | Val Loss: 0.6607\n"
          ]
        },
        {
          "output_type": "stream",
          "name": "stderr",
          "text": []
        },
        {
          "output_type": "stream",
          "name": "stdout",
          "text": [
            "Epoch 2 | Train Loss: 0.6497 | Val Loss: 0.6409\n"
          ]
        },
        {
          "output_type": "stream",
          "name": "stderr",
          "text": []
        },
        {
          "output_type": "stream",
          "name": "stdout",
          "text": [
            "Epoch 3 | Train Loss: 0.6378 | Val Loss: 0.6143\n"
          ]
        },
        {
          "output_type": "stream",
          "name": "stderr",
          "text": []
        },
        {
          "output_type": "stream",
          "name": "stdout",
          "text": [
            "Epoch 4 | Train Loss: 0.6274 | Val Loss: 0.6361\n"
          ]
        },
        {
          "output_type": "stream",
          "name": "stderr",
          "text": []
        },
        {
          "output_type": "stream",
          "name": "stdout",
          "text": [
            "Epoch 5 | Train Loss: 0.6203 | Val Loss: 0.6275\n"
          ]
        },
        {
          "output_type": "stream",
          "name": "stderr",
          "text": []
        },
        {
          "output_type": "stream",
          "name": "stdout",
          "text": [
            "Epoch 6 | Train Loss: 0.6103 | Val Loss: 0.6381\n"
          ]
        },
        {
          "output_type": "stream",
          "name": "stderr",
          "text": []
        },
        {
          "output_type": "stream",
          "name": "stdout",
          "text": [
            "Epoch 7 | Train Loss: 0.6035 | Val Loss: 0.6096\n"
          ]
        },
        {
          "output_type": "stream",
          "name": "stderr",
          "text": []
        },
        {
          "output_type": "stream",
          "name": "stdout",
          "text": [
            "Epoch 8 | Train Loss: 0.5988 | Val Loss: 0.6286\n"
          ]
        },
        {
          "output_type": "stream",
          "name": "stderr",
          "text": []
        },
        {
          "output_type": "stream",
          "name": "stdout",
          "text": [
            "Epoch 9 | Train Loss: 0.5931 | Val Loss: 0.5973\n"
          ]
        },
        {
          "output_type": "stream",
          "name": "stderr",
          "text": []
        },
        {
          "output_type": "stream",
          "name": "stdout",
          "text": [
            "Epoch 10 | Train Loss: 0.5865 | Val Loss: 0.6096\n"
          ]
        },
        {
          "output_type": "stream",
          "name": "stderr",
          "text": []
        },
        {
          "output_type": "stream",
          "name": "stdout",
          "text": [
            "Epoch 11 | Train Loss: 0.5819 | Val Loss: 0.5918\n"
          ]
        },
        {
          "output_type": "stream",
          "name": "stderr",
          "text": []
        },
        {
          "output_type": "stream",
          "name": "stdout",
          "text": [
            "Epoch 12 | Train Loss: 0.5767 | Val Loss: 0.5926\n"
          ]
        },
        {
          "output_type": "stream",
          "name": "stderr",
          "text": []
        },
        {
          "output_type": "stream",
          "name": "stdout",
          "text": [
            "Epoch 13 | Train Loss: 0.5715 | Val Loss: 0.6354\n"
          ]
        },
        {
          "output_type": "stream",
          "name": "stderr",
          "text": []
        },
        {
          "output_type": "stream",
          "name": "stdout",
          "text": [
            "Epoch 14 | Train Loss: 0.5677 | Val Loss: 0.5822\n"
          ]
        },
        {
          "output_type": "stream",
          "name": "stderr",
          "text": []
        },
        {
          "output_type": "stream",
          "name": "stdout",
          "text": [
            "Epoch 15 | Train Loss: 0.5611 | Val Loss: 0.5929\n"
          ]
        },
        {
          "output_type": "stream",
          "name": "stderr",
          "text": []
        },
        {
          "output_type": "stream",
          "name": "stdout",
          "text": [
            "Epoch 16 | Train Loss: 0.5582 | Val Loss: 0.5748\n"
          ]
        },
        {
          "output_type": "stream",
          "name": "stderr",
          "text": []
        },
        {
          "output_type": "stream",
          "name": "stdout",
          "text": [
            "Epoch 17 | Train Loss: 0.5535 | Val Loss: 0.5949\n"
          ]
        },
        {
          "output_type": "stream",
          "name": "stderr",
          "text": []
        },
        {
          "output_type": "stream",
          "name": "stdout",
          "text": [
            "Epoch 18 | Train Loss: 0.5501 | Val Loss: 0.5885\n"
          ]
        },
        {
          "output_type": "stream",
          "name": "stderr",
          "text": []
        },
        {
          "output_type": "stream",
          "name": "stdout",
          "text": [
            "Epoch 19 | Train Loss: 0.5461 | Val Loss: 0.5669\n"
          ]
        },
        {
          "output_type": "stream",
          "name": "stderr",
          "text": []
        },
        {
          "output_type": "stream",
          "name": "stdout",
          "text": [
            "Epoch 20 | Train Loss: 0.5415 | Val Loss: 0.5816\n"
          ]
        },
        {
          "output_type": "display_data",
          "data": {
            "text/plain": [
              "<Figure size 700x400 with 1 Axes>"
            ],
            "image/png": "[encoded data removed]"
          },
          "metadata": {}
        },
        {
          "output_type": "stream",
          "name": "stdout",
          "text": [
            "\n",
            "Final Evaluation:\n",
            "Accuracy     : 0.7123\n",
            "Precision    : 0.5659\n",
            "Recall       : 0.7182\n",
            "F1 Score     : 0.6331\n",
            "ROC AUC      : 0.7861\n"
          ]
        },
        {
          "output_type": "display_data",
          "data": {
            "text/plain": [
              "<Figure size 300x200 with 2 Axes>"
            ],
            "image/png": "[encoded data removed]"
          },
          "metadata": {}
        }
      ]
    },
    {
      "cell_type": "code",
      "source": [
        "metrics_df = pd.DataFrame({\n",
        "    \"Metric\": [\"Accuracy\", \"Precision\", \"Recall\", \"F1 Score\", \"ROC AUC\"],\n",
        "    \"Baseline\": [metrics_baseline[\"accuracy\"], metrics_baseline[\"precision\"],\n",
        "                 metrics_baseline[\"recall\"], metrics_baseline[\"f1\"], metrics_baseline[\"roc_auc\"]],\n",
        "    \"SMOTE\": [metrics_smote[\"accuracy\"], metrics_smote[\"precision\"],\n",
        "              metrics_smote[\"recall\"], metrics_smote[\"f1\"], metrics_smote[\"roc_auc\"]]\n",
        "})\n",
        "\n",
        "print(metrics_df)"
      ],
      "metadata": {
        "colab": {
          "base_uri": "https://localhost:8080/"
        },
        "id": "VdCdnSCoqA0X",
        "outputId": "f45e5d64-7086-4bea-8b41-3c3088203c60"
      },
      "execution_count": null,
      "outputs": [
        {
          "output_type": "stream",
          "name": "stdout",
          "text": [
            "      Metric  Baseline     SMOTE\n",
            "0   Accuracy  0.732796  0.712299\n",
            "1  Precision  0.615551  0.565943\n",
            "2     Recall  0.603814  0.718220\n",
            "3   F1 Score  0.609626  0.633053\n",
            "4    ROC AUC  0.794854  0.786131\n"
          ]
        }
      ]
    }
  ]
}