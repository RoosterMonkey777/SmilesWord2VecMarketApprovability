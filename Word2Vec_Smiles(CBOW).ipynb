{
  "cells": [
    {
      "cell_type": "markdown",
      "metadata": {
        "id": "lVUZxGiZe2Q5"
      },
      "source": [
        "# 0. Setup"
      ]
    },
    {
      "cell_type": "code",
      "execution_count": null,
      "metadata": {
        "colab": {
          "base_uri": "https://localhost:8080/"
        },
        "id": "y-Ytua99TAuP",
        "outputId": "b8e3dac4-b95c-44d1-a28c-b742e0f07c97"
      },
      "outputs": [
        {
          "output_type": "stream",
          "name": "stdout",
          "text": [
            "Mounted at /content/drive\n"
          ]
        }
      ],
      "source": [
        "from google.colab import drive\n",
        "drive.mount('/content/drive')"
      ]
    },
    {
      "cell_type": "code",
      "execution_count": null,
      "metadata": {
        "id": "UZA5VCzjS70T"
      },
      "outputs": [],
      "source": [
        "import random\n",
        "import numpy as np\n",
        "import pandas as pd\n",
        "import seaborn as sns\n",
        "from tqdm import tqdm\n",
        "import matplotlib.pyplot as plt\n",
        "from collections import defaultdict\n",
        "import re\n",
        "\n",
        "import torch\n",
        "import torch.nn as nn\n",
        "import torch.optim as optim\n",
        "from torch.utils.data import Dataset, DataLoader\n",
        "\n",
        "from sklearn.model_selection import train_test_split\n",
        "from sklearn.metrics import accuracy_score, precision_score, recall_score, f1_score, roc_auc_score, confusion_matrix\n",
        "\n",
        "from imblearn.over_sampling import SMOTE"
      ]
    },
    {
      "cell_type": "markdown",
      "metadata": {
        "id": "TdhcyY8OUhSq"
      },
      "source": [
        "# 1. Load Data"
      ]
    },
    {
      "cell_type": "code",
      "execution_count": null,
      "metadata": {
        "id": "v6VwEVduTG3V"
      },
      "outputs": [],
      "source": [
        "\n",
        "TRAIN_FILE_PATH = '/content/drive/My Drive/IND_ability_train.csv'\n",
        "TEST_FILE_PATH = '/content/drive/MyDrive/IND_ability_test.csv'"
      ]
    },
    {
      "cell_type": "code",
      "execution_count": null,
      "metadata": {
        "colab": {
          "base_uri": "https://localhost:8080/"
        },
        "id": "pIudLsaETsx9",
        "outputId": "a3839f72-6a5b-460a-ae1e-3b61c745adf9"
      },
      "outputs": [
        {
          "output_type": "stream",
          "name": "stdout",
          "text": [
            "Loaded 24597 training SMILES, 2732 test SMILES.\n"
          ]
        }
      ],
      "source": [
        "df_train = pd.read_csv(TRAIN_FILE_PATH, usecols=['smiles', 'label'])\n",
        "smiles_train = df_train['smiles'].tolist()\n",
        "labels_train = df_train['label'].tolist()\n",
        "df_test = pd.read_csv(TEST_FILE_PATH, usecols=['smiles', 'label'])\n",
        "smiles_test = df_test['smiles'].tolist()\n",
        "labels_test = df_test['label'].tolist()\n",
        "\n",
        "print(f\"Loaded {len(smiles_train)} training SMILES, {len(smiles_test)} test SMILES.\")"
      ]
    },
    {
      "cell_type": "markdown",
      "metadata": {
        "id": "jsbbkwT4Uk5h"
      },
      "source": [
        "# 2. Tokenization"
      ]
    },
    {
      "cell_type": "code",
      "execution_count": null,
      "metadata": {
        "id": "s_925fuwTzoN"
      },
      "outputs": [],
      "source": [
        "def tokenize_smiles(smiles_str):\n",
        "    \"\"\"\n",
        "    Convert a SMILES string to a list of single-character tokens.\n",
        "    e.g., 'CC(=O)' -> ['C','C','(','=','O',')']\n",
        "    \"\"\"\n",
        "    return list(smiles_str.strip())\n",
        "\n",
        "\n",
        "#################################### PK EDITS ######################################\n",
        "def atomwise_tokenizer(smiles, exclusive_tokens=None):\n",
        "  \"\"\"\n",
        "  Tokenize a SMILES molecule at atom-level:\n",
        "      (1) 'Br' and 'Cl' are two-character tokens\n",
        "      (2) Symbols with bracket are considered as tokens\n",
        "\n",
        "  exclusive_tokens: A list of specifical symbols with bracket you want to keep. e.g., ['[C@@H]', '[nH]'].\n",
        "  Other symbols with bracket will be replaced by '[UNK]'. default is `None`.\n",
        "  \"\"\"\n",
        "\n",
        "  pattern = \"(\\[[^\\]]+]|Br?|Cl?|N|O|S|P|F|I|b|c|n|o|s|p|\\(|\\)|\\.|=|#|-|\\+|\\\\\\\\|\\/|:|~|@|\\?|>|\\*|\\$|\\%[0-9]{2}|[0-9])\"\n",
        "\n",
        "  regex = re.compile(pattern)\n",
        "  tokens = [token for token in regex.findall(smiles)]\n",
        "\n",
        "  if exclusive_tokens:\n",
        "      for i, tok in enumerate(tokens):\n",
        "          if tok.startswith('['):\n",
        "              if tok not in exclusive_tokens:\n",
        "                  tokens[i] = '[UNK]'\n",
        "\n",
        "  return tokens"
      ]
    },
    {
      "cell_type": "code",
      "execution_count": null,
      "metadata": {
        "id": "oYN8bUTwUq6V"
      },
      "outputs": [],
      "source": [
        "# # Tokenize train/test sets\n",
        "# tokenized_train = [tokenize_smiles(s) for s in smiles_train]\n",
        "# tokenized_test = [tokenize_smiles(s) for s in smiles_test]\n",
        "\n",
        "\n",
        "\n",
        "#PK EDITS UNCOMMENT Below Atom based tokenization\n",
        "tokenized_train = [atomwise_tokenizer(s, None) for s in smiles_train]\n",
        "tokenized_test = [atomwise_tokenizer(s, None) for s in smiles_train]"
      ]
    },
    {
      "cell_type": "markdown",
      "metadata": {
        "id": "oiu-LUM8U5bV"
      },
      "source": [
        "# 3. Build Vocabulary"
      ]
    },
    {
      "cell_type": "code",
      "execution_count": null,
      "metadata": {
        "id": "hW90ym_fUuTJ"
      },
      "outputs": [],
      "source": [
        "def build_vocab(tokenized_data):\n",
        "    \"\"\"\n",
        "    Takes a list of token lists and builds:\n",
        "      - token_to_idx: dict mapping token -> int\n",
        "      - idx_to_token: dict mapping int -> token\n",
        "    \"\"\"\n",
        "    token_freq = defaultdict(int)\n",
        "    # print(token_freq)\n",
        "\n",
        "    # Count frequencies across all SMILES\n",
        "    for tokens in tokenized_data:\n",
        "        for t in tokens:\n",
        "            token_freq[t] += 1\n",
        "    # print(token_freq)\n",
        "\n",
        "    # Sort tokens by descending frequency\n",
        "    sorted_tokens = sorted(token_freq.keys(), key=lambda x: -token_freq[x])\n",
        "\n",
        "    token_to_idx = {}\n",
        "    idx_to_token = {}\n",
        "\n",
        "    for i, token in enumerate(sorted_tokens):\n",
        "        token_to_idx[token] = i\n",
        "        idx_to_token[i] = token\n",
        "\n",
        "    return token_to_idx, idx_to_token"
      ]
    },
    {
      "cell_type": "code",
      "execution_count": null,
      "metadata": {
        "colab": {
          "base_uri": "https://localhost:8080/"
        },
        "id": "dF1_mbumVMRC",
        "outputId": "edae5e4e-b9c9-4c87-eaec-2c39b5bcd023"
      },
      "outputs": [
        {
          "output_type": "stream",
          "name": "stdout",
          "text": [
            "Vocab size = 65\n"
          ]
        }
      ],
      "source": [
        "\n",
        "# Build vocab from the TRAIN set only\n",
        "token_to_idx, idx_to_token = build_vocab(tokenized_train)\n",
        "vocab_size = len(token_to_idx)\n",
        "\n",
        "print(f\"Vocab size = {vocab_size}\")"
      ]
    },
    {
      "cell_type": "markdown",
      "metadata": {
        "id": "FsZtvQ2dVUR7"
      },
      "source": [
        "# 4. Create CBOW Pairs"
      ]
    },
    {
      "cell_type": "code",
      "execution_count": null,
      "metadata": {
        "id": "EJ520AmOVUpR"
      },
      "outputs": [],
      "source": [
        "def generate_cbow_samples(tokenized_data, token_to_idx, window_size=2):\n",
        "    \"\"\"\n",
        "    Returns a list of (context_indices, target_index) pairs for CBOW.\n",
        "\n",
        "    context_indices: list of integer token IDs around the target\n",
        "    target_index   : integer token ID for the center token\n",
        "    \"\"\"\n",
        "    cbow_samples = []\n",
        "    for tokens in tokenized_data:\n",
        "        indices = [token_to_idx[t] for t in tokens if t in token_to_idx]\n",
        "        for i, target_idx in enumerate(indices):\n",
        "            start = max(0, i - window_size)\n",
        "            end   = min(len(indices), i + window_size + 1)\n",
        "\n",
        "            # Gather neighbors (excluding the center token)\n",
        "            context_list = []\n",
        "            for j in range(start, end):\n",
        "                if j != i:\n",
        "                    context_list.append(indices[j])\n",
        "\n",
        "            if len(context_list) == 0:\n",
        "                continue\n",
        "\n",
        "            # Add one sample: (list_of_context_tokens, target_token)\n",
        "            cbow_samples.append((context_list, target_idx))\n",
        "\n",
        "    return cbow_samples"
      ]
    },
    {
      "cell_type": "code",
      "execution_count": null,
      "metadata": {
        "colab": {
          "base_uri": "https://localhost:8080/"
        },
        "id": "ual3dBp8VcHj",
        "outputId": "35132860-1de4-45c8-9624-4264d715f234"
      },
      "outputs": [
        {
          "output_type": "stream",
          "name": "stdout",
          "text": [
            "Number of CBOW samples in training set: 1071396\n"
          ]
        }
      ],
      "source": [
        "cbow_samples_train = generate_cbow_samples(tokenized_train, token_to_idx, window_size=2)\n",
        "print(f\"Number of CBOW samples in training set: {len(cbow_samples_train)}\")"
      ]
    },
    {
      "cell_type": "code",
      "execution_count": null,
      "metadata": {
        "id": "844CoBxPDqLH"
      },
      "outputs": [],
      "source": [
        "def prepare_cbow_data(cbow_samples, max_context_size=4):\n",
        "    \"\"\"\n",
        "    Convert (context_list, target) pairs to a NumPy array of shape:\n",
        "      (num_samples, max_context_size + 1)\n",
        "    We'll store:\n",
        "      columns [0..max_context_size-1] => context tokens\n",
        "      column  max_context_size        => target token\n",
        "    We pad context lists that are shorter than max_context_size with 0.\n",
        "    \"\"\"\n",
        "    data_rows = []\n",
        "    for (ctx_list, tgt) in cbow_samples:\n",
        "        # If context_list is bigger than max_context_size, truncate\n",
        "        ctx = ctx_list[:max_context_size]\n",
        "        # Pad if needed\n",
        "        if len(ctx) < max_context_size:\n",
        "            ctx += [0]*(max_context_size - len(ctx))\n",
        "        # final row => [ctx_1, ctx_2, ..., ctx_N, target]\n",
        "        data_rows.append(ctx + [tgt])\n",
        "    return np.array(data_rows, dtype=np.int64)"
      ]
    },
    {
      "cell_type": "code",
      "execution_count": null,
      "metadata": {
        "colab": {
          "base_uri": "https://localhost:8080/"
        },
        "id": "GapQRA4KDwWH",
        "outputId": "433f611e-9c37-419f-87bd-29093392a0e4"
      },
      "outputs": [
        {
          "output_type": "stream",
          "name": "stdout",
          "text": [
            "cbow_arr_train shape = (1071396, 5)\n"
          ]
        }
      ],
      "source": [
        "max_context_size = 2*2  # since window_size=2 => 4 tokens\n",
        "cbow_arr_train = prepare_cbow_data(cbow_samples_train, max_context_size=max_context_size)\n",
        "print(f\"cbow_arr_train shape = {cbow_arr_train.shape}\")"
      ]
    },
    {
      "cell_type": "markdown",
      "metadata": {
        "id": "GD1ZsqIiVtic"
      },
      "source": [
        "# 5. Define CBOW Model (with Negative Sampling)"
      ]
    },
    {
      "cell_type": "code",
      "execution_count": null,
      "metadata": {
        "id": "iJvKeevIVe79"
      },
      "outputs": [],
      "source": [
        "class CBOWNegativeSampling(nn.Module):\n",
        "    def __init__(self, vocab_size, embedding_dim):\n",
        "        \"\"\"\n",
        "        'input_embedding': for context tokens\n",
        "        'output_embedding': for target (center) tokens\n",
        "        \"\"\"\n",
        "        super(CBOWNegativeSampling, self).__init__()\n",
        "        self.embedding_dim = embedding_dim\n",
        "\n",
        "        self.input_embedding = nn.Embedding(vocab_size, embedding_dim)   # for contexts\n",
        "        self.output_embedding = nn.Embedding(vocab_size, embedding_dim)  # for targets\n",
        "\n",
        "        # Initialize weights\n",
        "        nn.init.xavier_uniform_(self.input_embedding.weight)\n",
        "        nn.init.xavier_uniform_(self.output_embedding.weight)\n",
        "\n",
        "    def forward(self, context_batch, target_batch, negative_batch):\n",
        "        \"\"\"\n",
        "        context_batch: (batch_size, max_context_size)\n",
        "        target_batch : (batch_size,)\n",
        "        negative_batch: (batch_size, K)\n",
        "\n",
        "        Returns:\n",
        "          pos_score: (batch_size)   => dot(sum(context_emb), target_emb)\n",
        "          neg_score: (batch_size,K) => dot(sum(context_emb), negative_emb_k)\n",
        "        \"\"\"\n",
        "        # 1) Embed all context tokens => (batch_size, max_context_size, embedding_dim)\n",
        "        context_emb = self.input_embedding(context_batch)\n",
        "\n",
        "        # 2) Sum across context positions => (batch_size, embedding_dim)\n",
        "        context_sum = torch.sum(context_emb, dim=1)\n",
        "\n",
        "        # 3) Retrieve target embeddings => (batch_size, embedding_dim)\n",
        "        target_emb = self.output_embedding(target_batch)\n",
        "\n",
        "        # Positive score => dot(context_sum, target_emb)\n",
        "        pos_score = torch.sum(context_sum * target_emb, dim=1)\n",
        "\n",
        "        # Negative samples => shape => (batch_size, K, embedding_dim)\n",
        "        neg_emb = self.output_embedding(negative_batch)\n",
        "\n",
        "        # Expand context_sum => (batch_size, 1, embedding_dim)\n",
        "        context_sum = context_sum.unsqueeze(1)\n",
        "\n",
        "        # Dot product => (batch_size, K)\n",
        "        neg_score = torch.sum(context_sum * neg_emb, dim=2)\n",
        "\n",
        "        return pos_score, neg_score"
      ]
    },
    {
      "cell_type": "code",
      "execution_count": null,
      "metadata": {
        "id": "r4R2trMGV0AN"
      },
      "outputs": [],
      "source": [
        "def negative_sampling_loss(pos_score, neg_score):\n",
        "    \"\"\"\n",
        "    Negative sampling loss:\n",
        "      - Maximize log(sigmoid(pos_score))\n",
        "      - Maximize log(sigmoid(-neg_score)) for negative samples\n",
        "    \"\"\"\n",
        "    # pos_score: (batch_size)\n",
        "    # neg_score: (batch_size, K)\n",
        "\n",
        "    # Avoid log(0)\n",
        "    eps = 1e-9\n",
        "\n",
        "    # Positive part: log(sigmoid(pos_score))\n",
        "    pos_loss = -torch.log(torch.sigmoid(pos_score) + eps)\n",
        "\n",
        "    # Negative part: sum of log(sigmoid(-neg_score)) over K negative samples\n",
        "    neg_loss = -torch.sum(torch.log(torch.sigmoid(-neg_score) + eps), dim=1)\n",
        "\n",
        "    return torch.mean(pos_loss + neg_loss)"
      ]
    },
    {
      "cell_type": "markdown",
      "metadata": {
        "id": "PxZrreUhV1z2"
      },
      "source": [
        "# 6. Training The Model"
      ]
    },
    {
      "cell_type": "code",
      "execution_count": null,
      "metadata": {
        "colab": {
          "base_uri": "https://localhost:8080/"
        },
        "id": "xtjG1lNYXmpK",
        "outputId": "1d56b5dc-0fc9-4e79-b21d-69c849b078b0"
      },
      "outputs": [
        {
          "output_type": "stream",
          "name": "stdout",
          "text": [
            "Using device: cpu\n"
          ]
        }
      ],
      "source": [
        "# Hyperparameters\n",
        "embedding_dim   = 50\n",
        "epochs          = 5\n",
        "batch_size      = 64\n",
        "neg_sample_size = 5\n",
        "learning_rate   = 0.01\n",
        "\n",
        "device = torch.device(\"cuda\" if torch.cuda.is_available() else \"cpu\")\n",
        "print(f\"Using device: {device}\")"
      ]
    },
    {
      "cell_type": "code",
      "execution_count": null,
      "metadata": {
        "id": "kczOG7r8EGWB"
      },
      "outputs": [],
      "source": [
        "class CBOWDataset(Dataset):\n",
        "    \"\"\"\n",
        "    Each row: [ctx_1, ctx_2, ..., ctx_n, target]\n",
        "    \"\"\"\n",
        "    def __init__(self, data_arr):\n",
        "        self.data = data_arr  # shape => (num_samples, max_context_size+1)\n",
        "\n",
        "    def __len__(self):\n",
        "        return len(self.data)\n",
        "\n",
        "    def __getitem__(self, idx):\n",
        "        row = self.data[idx]\n",
        "        context = row[:-1]  # first max_context_size columns\n",
        "        target  = row[-1]   # last column\n",
        "        return context, target"
      ]
    },
    {
      "cell_type": "code",
      "execution_count": null,
      "metadata": {
        "id": "2Gw8DlGoEJQ5"
      },
      "outputs": [],
      "source": [
        "cbow_train_dataset = CBOWDataset(cbow_arr_train)\n",
        "cbow_train_loader = DataLoader(cbow_train_dataset, batch_size=batch_size, shuffle=True)"
      ]
    },
    {
      "cell_type": "code",
      "execution_count": null,
      "metadata": {
        "colab": {
          "base_uri": "https://localhost:8080/"
        },
        "id": "ly5u2GEjV2Ip",
        "outputId": "cd8103a6-b147-4343-a6db-e42cc5f6a021"
      },
      "outputs": [
        {
          "output_type": "stream",
          "name": "stdout",
          "text": [
            "Starting CBOW training...\n"
          ]
        },
        {
          "output_type": "stream",
          "name": "stderr",
          "text": []
        },
        {
          "output_type": "stream",
          "name": "stdout",
          "text": [
            "Epoch 1/5 - Avg Loss: 1.0217\n"
          ]
        },
        {
          "output_type": "stream",
          "name": "stderr",
          "text": []
        },
        {
          "output_type": "stream",
          "name": "stdout",
          "text": [
            "Epoch 2/5 - Avg Loss: 1.0111\n"
          ]
        },
        {
          "output_type": "stream",
          "name": "stderr",
          "text": []
        },
        {
          "output_type": "stream",
          "name": "stdout",
          "text": [
            "Epoch 3/5 - Avg Loss: 1.0108\n"
          ]
        },
        {
          "output_type": "stream",
          "name": "stderr",
          "text": []
        },
        {
          "output_type": "stream",
          "name": "stdout",
          "text": [
            "Epoch 4/5 - Avg Loss: 1.0114\n"
          ]
        },
        {
          "output_type": "stream",
          "name": "stderr",
          "text": [
            "                                                                             "
          ]
        },
        {
          "output_type": "stream",
          "name": "stdout",
          "text": [
            "Epoch 5/5 - Avg Loss: 1.0110\n"
          ]
        },
        {
          "output_type": "stream",
          "name": "stderr",
          "text": [
            "\r"
          ]
        }
      ],
      "source": [
        "# Instantiate the model\n",
        "cbow_model = CBOWNegativeSampling(vocab_size, embedding_dim).to(device)\n",
        "optimizer  = optim.Adam(cbow_model.parameters(), lr=learning_rate)\n",
        "\n",
        "# Training loop\n",
        "cbow_data_size = len(cbow_arr_train)\n",
        "num_batches    = cbow_data_size // batch_size\n",
        "losses  = []\n",
        "print(\"Starting CBOW training...\")\n",
        "for epoch in range(epochs):\n",
        "    total_loss = 0.0\n",
        "    loader_tqdm = tqdm(cbow_train_loader, desc=f\"Epoch {epoch+1}/{epochs}\", leave=False)\n",
        "    for context_batch, target_batch in loader_tqdm:\n",
        "        context_batch = context_batch.to(device)  # shape => (batch_size, max_context_size)\n",
        "        target_batch  = target_batch.to(device)   # shape => (batch_size,)\n",
        "\n",
        "        # Negative samples => (batch_size, K)\n",
        "        batch_sz = context_batch.size(0)\n",
        "        neg_samples = []\n",
        "        for _ in range(batch_sz):\n",
        "            negs = np.random.choice(vocab_size, neg_sample_size, replace=False)\n",
        "            neg_samples.append(negs)\n",
        "        neg_samples = torch.LongTensor(neg_samples).to(device)\n",
        "\n",
        "        # Forward\n",
        "        pos_score, neg_score = cbow_model(context_batch, target_batch, neg_samples)\n",
        "\n",
        "        loss = negative_sampling_loss(pos_score, neg_score)\n",
        "\n",
        "        optimizer.zero_grad()\n",
        "        loss.backward()\n",
        "        optimizer.step()\n",
        "\n",
        "        total_loss += loss.item()\n",
        "        loader_tqdm.set_postfix(loss=loss.item())\n",
        "\n",
        "    avg_loss = total_loss / (num_batches if num_batches>0 else 1)\n",
        "    losses.append(avg_loss)\n",
        "    print(f\"Epoch {epoch+1}/{epochs} - Avg Loss: {avg_loss:.4f}\")"
      ]
    },
    {
      "cell_type": "code",
      "source": [
        "plt.plot(losses)\n",
        "plt.xlabel(\"Epochs\")\n",
        "plt.ylabel(\"Negative Sampling Loss\")\n",
        "plt.title(\"CBOW Model: Negative Sampling Vs Epochs\")\n",
        "plt.grid()"
      ],
      "metadata": {
        "colab": {
          "base_uri": "https://localhost:8080/",
          "height": 472
        },
        "id": "zyPeG4oXgL3F",
        "outputId": "7d1b9b01-f866-4581-db51-93bea5ba6b5d"
      },
      "execution_count": null,
      "outputs": [
        {
          "output_type": "display_data",
          "data": {
            "text/plain": [
              "<Figure size 640x480 with 1 Axes>"
            ],
            "image/png": "[encoded data removed]"
          },
          "metadata": {}
        }
      ]
    },
    {
      "cell_type": "markdown",
      "metadata": {
        "id": "7OPk0hKef6Tu"
      },
      "source": [
        "# 7. Extract Word2Vec Embeddings"
      ]
    },
    {
      "cell_type": "code",
      "execution_count": null,
      "metadata": {
        "id": "LYcJzy3uemVq"
      },
      "outputs": [],
      "source": [
        "def smiles_to_embedding(smiles_str, model, token_to_idx):\n",
        "    \"\"\"\n",
        "    Convert a SMILES string to a single embedding vector by\n",
        "    averaging the 'input_embedding' (or 'output_embedding') for each token.\n",
        "    \"\"\"\n",
        "    tokens = tokenize_smiles(smiles_str)\n",
        "    vecs   = []\n",
        "    for t in tokens:\n",
        "        if t in token_to_idx:\n",
        "            idx = token_to_idx[t]\n",
        "            emb = model.input_embedding.weight[idx].detach().cpu().numpy()\n",
        "            vecs.append(emb)\n",
        "\n",
        "    if len(vecs) == 0:\n",
        "        return np.zeros(model.embedding_dim)\n",
        "    else:\n",
        "        return np.mean(vecs, axis=0)"
      ]
    },
    {
      "cell_type": "code",
      "execution_count": null,
      "metadata": {
        "colab": {
          "base_uri": "https://localhost:8080/"
        },
        "id": "CGDr335heo32",
        "outputId": "cb22302c-787a-4a02-8668-01002d609320"
      },
      "outputs": [
        {
          "output_type": "stream",
          "name": "stdout",
          "text": [
            "Train set embeddings shape: 24597 x 50\n",
            "Test set embeddings shape:  2732 x 50\n"
          ]
        }
      ],
      "source": [
        "train_embeddings = []\n",
        "for s in smiles_train:\n",
        "    vec = smiles_to_embedding(s, cbow_model, token_to_idx)\n",
        "    train_embeddings.append(vec)\n",
        "\n",
        "test_embeddings = []\n",
        "for s in smiles_test:\n",
        "    vec = smiles_to_embedding(s, cbow_model, token_to_idx)\n",
        "    test_embeddings.append(vec)\n",
        "\n",
        "print(f\"Train set embeddings shape: {len(train_embeddings)} x {len(train_embeddings[0]) if train_embeddings else 'unknown'}\")\n",
        "print(f\"Test set embeddings shape:  {len(test_embeddings)} x {len(test_embeddings[0]) if test_embeddings else 'unknown'}\")"
      ]
    },
    {
      "cell_type": "code",
      "execution_count": null,
      "metadata": {
        "id": "SaGZfwZIfjpQ"
      },
      "outputs": [],
      "source": [
        "train_embeddings = np.array(train_embeddings)  # shape => (num_train, embedding_dim)\n",
        "test_embeddings  = np.array(test_embeddings)   # shape => (num_test, embedding_dim)\n",
        "labels_train_np  = np.array(labels_train)\n",
        "labels_test_np   = np.array(labels_test)\n",
        "\n",
        "# Split test into validation and final test sets (50% val, 50% test)\n",
        "val_embeddings, final_test_embeddings, val_labels, final_test_labels = train_test_split(\n",
        "    test_embeddings, labels_test_np, test_size=0.5, random_state=42, stratify=labels_test_np\n",
        ")"
      ]
    },
    {
      "cell_type": "code",
      "execution_count": null,
      "metadata": {
        "colab": {
          "base_uri": "https://localhost:8080/"
        },
        "id": "8dIQHvqGo3Od",
        "outputId": "483c4197-16ce-47da-f912-82ebce8e3754"
      },
      "outputs": [
        {
          "output_type": "stream",
          "name": "stdout",
          "text": [
            "Original class distribution: [16155  8442]\n",
            "Resampled class distribution: [16155 16155]\n"
          ]
        }
      ],
      "source": [
        "# Apply SMOTE to training set\n",
        "smote = SMOTE(random_state=42)\n",
        "train_embeddings_resampled, labels_train_resampled = smote.fit_resample(train_embeddings, labels_train_np)\n",
        "\n",
        "print(f\"Original class distribution: {np.bincount(labels_train_np)}\")\n",
        "print(f\"Resampled class distribution: {np.bincount(labels_train_resampled)}\")"
      ]
    },
    {
      "cell_type": "markdown",
      "metadata": {
        "id": "Z8wu8g5Mf2xk"
      },
      "source": [
        "# 8. Define a DATASET/LOADER For The MLP"
      ]
    },
    {
      "cell_type": "code",
      "execution_count": null,
      "metadata": {
        "id": "dt0XeMujfj9i"
      },
      "outputs": [],
      "source": [
        "class EmbeddingDataset(Dataset):\n",
        "    def __init__(self, embeddings, labels):\n",
        "        self.embeddings = embeddings\n",
        "        self.labels = labels\n",
        "\n",
        "    def __len__(self):\n",
        "        return len(self.embeddings)\n",
        "\n",
        "    def __getitem__(self, idx):\n",
        "        x = self.embeddings[idx]\n",
        "        y = self.labels[idx]\n",
        "        return torch.tensor(x, dtype=torch.float32), torch.tensor(y, dtype=torch.float32)"
      ]
    },
    {
      "cell_type": "code",
      "execution_count": null,
      "metadata": {
        "id": "HH45DQpXnUbx"
      },
      "outputs": [],
      "source": [
        "train_dataset = EmbeddingDataset(train_embeddings, labels_train_np)\n",
        "resampled_dataset = EmbeddingDataset(train_embeddings_resampled, labels_train_resampled)\n",
        "# test_dataset  = EmbeddingDataset(test_embeddings,  labels_test_np)\n",
        "val_dataset = EmbeddingDataset(val_embeddings, val_labels)\n",
        "final_test_dataset = EmbeddingDataset(final_test_embeddings, final_test_labels)\n",
        "\n",
        "train_loader = DataLoader(train_dataset, batch_size=32, shuffle=True)\n",
        "resampled_loader = DataLoader(resampled_dataset, batch_size=32, shuffle=True)\n",
        "# test_loader  = DataLoader(test_dataset,  batch_size=32, shuffle=False)\n",
        "val_loader = DataLoader(val_dataset, batch_size=32, shuffle=False)\n",
        "final_test_loader = DataLoader(final_test_dataset, batch_size=32, shuffle=False)"
      ]
    },
    {
      "cell_type": "markdown",
      "metadata": {
        "id": "qvKuwMB3gPyD"
      },
      "source": [
        "# 9. Define The MLP Classifier & Train\n"
      ]
    },
    {
      "cell_type": "code",
      "execution_count": null,
      "metadata": {
        "id": "k-GyenNufp1C"
      },
      "outputs": [],
      "source": [
        "class MLPClassifier(nn.Module):\n",
        "    def __init__(self, input_dim):\n",
        "        super(MLPClassifier, self).__init__()\n",
        "        self.layers = nn.Sequential(\n",
        "            nn.Linear(input_dim, 1024), nn.ReLU(), nn.Dropout(0.2),\n",
        "            nn.Linear(1024, 512), nn.ReLU(), nn.Dropout(0.2),\n",
        "            nn.Linear(512, 256), nn.ReLU(), nn.Dropout(0.2),\n",
        "            nn.Linear(256, 128), nn.ReLU(), nn.Dropout(0.2),\n",
        "            nn.Linear(128, 64), nn.ReLU(), nn.Dropout(0.2),\n",
        "            nn.Linear(64, 32), nn.ReLU(), nn.Dropout(0.2),\n",
        "            nn.Linear(32, 8), nn.ReLU(), nn.Dropout(0.2),\n",
        "            nn.Linear(8, 1),\n",
        "            nn.Sigmoid()\n",
        "        )\n",
        "\n",
        "    def forward(self, x):\n",
        "        return self.layers(x).view(-1)  # shape: (batch,)"
      ]
    },
    {
      "cell_type": "code",
      "execution_count": null,
      "metadata": {
        "id": "l-GujLCVgTzi"
      },
      "outputs": [],
      "source": [
        "from sklearn.metrics import classification_report\n",
        "\n",
        "def train_and_evaluate_model(train_loader, val_loader, test_loader, input_dim, epochs= 20, lr=0.001, plot_loss=True):\n",
        "    model = MLPClassifier(input_dim).to(device)\n",
        "    optimizer = torch.optim.Adam(model.parameters(), lr=lr)\n",
        "    criterion = nn.BCELoss()\n",
        "\n",
        "    train_losses = []\n",
        "    val_losses = []\n",
        "\n",
        "    for epoch in range(epochs):\n",
        "        model.train()\n",
        "        total_loss = 0.0\n",
        "        for batch_x, batch_y in tqdm(train_loader, desc=f\"Epoch {epoch+1}/{epochs} [Train]\", leave=False):\n",
        "            batch_x, batch_y = batch_x.to(device), batch_y.to(device)\n",
        "            preds = model(batch_x)\n",
        "            loss = criterion(preds, batch_y)\n",
        "\n",
        "            optimizer.zero_grad()\n",
        "            loss.backward()\n",
        "            optimizer.step()\n",
        "\n",
        "            total_loss += loss.item() * len(batch_x)\n",
        "        train_losses.append(total_loss / len(train_loader.dataset))\n",
        "\n",
        "        # Validation\n",
        "        model.eval()\n",
        "        val_loss = 0.0\n",
        "        with torch.no_grad():\n",
        "            for batch_x, batch_y in val_loader:\n",
        "                batch_x, batch_y = batch_x.to(device), batch_y.to(device)\n",
        "                preds = model(batch_x)\n",
        "                loss = criterion(preds, batch_y)\n",
        "                val_loss += loss.item() * len(batch_x)\n",
        "        val_losses.append(val_loss / len(val_loader.dataset))\n",
        "\n",
        "        print(f\"Epoch {epoch+1} | Train Loss: {train_losses[-1]:.4f} | Val Loss: {val_losses[-1]:.4f}\")\n",
        "\n",
        "    # Plot loss\n",
        "    if plot_loss:\n",
        "        plt.figure(figsize=(7, 4))\n",
        "        plt.plot(train_losses, label=\"Train Loss\")\n",
        "        plt.plot(val_losses, label=\"Val Loss\")\n",
        "        plt.xlabel(\"Epoch\")\n",
        "        plt.ylabel(\"Loss\")\n",
        "        plt.title(\"Training vs Validation Loss\")\n",
        "        plt.legend()\n",
        "        plt.tight_layout()\n",
        "        plt.grid(True)\n",
        "        plt.show()\n",
        "\n",
        "    # Evaluate on test set\n",
        "    model.eval()\n",
        "    all_preds = []\n",
        "    all_probs = []\n",
        "    all_targets = []\n",
        "    with torch.no_grad():\n",
        "        for batch_x, batch_y in test_loader:\n",
        "            batch_x = batch_x.to(device)\n",
        "            probs = model(batch_x).cpu()\n",
        "            preds = (probs >= 0.5).float()\n",
        "\n",
        "            all_probs.extend(probs.numpy())\n",
        "            all_preds.extend(preds.numpy())\n",
        "            all_targets.extend(batch_y.numpy())\n",
        "\n",
        "    # Metrics\n",
        "    all_preds = np.array(all_preds)\n",
        "    all_probs = np.array(all_probs)\n",
        "    all_targets = np.array(all_targets)\n",
        "\n",
        "    acc = accuracy_score(all_targets, all_preds)\n",
        "    prec = precision_score(all_targets, all_preds)\n",
        "    rec = recall_score(all_targets, all_preds)\n",
        "    f1 = f1_score(all_targets, all_preds)\n",
        "    roc = roc_auc_score(all_targets, all_probs)\n",
        "    cm = confusion_matrix(all_targets, all_preds)\n",
        "\n",
        "    print(\"\\nFinal Evaluation:\")\n",
        "    print(f\"Accuracy     : {acc:.4f}\")\n",
        "    print(f\"Precision    : {prec:.4f}\")\n",
        "    print(f\"Recall       : {rec:.4f}\")\n",
        "    print(f\"F1 Score     : {f1:.4f}\")\n",
        "    print(f\"ROC AUC      : {roc:.4f}\")\n",
        "    # Confusion Matrix\n",
        "    plt.figure(figsize=(3, 2))\n",
        "    sns.heatmap(cm, annot=True, fmt=\"d\", cmap=\"Blues\", xticklabels=[\"Pred 0\", \"Pred 1\"], yticklabels=[\"True 0\", \"True 1\"])\n",
        "    plt.xlabel(\"Predicted Label\")\n",
        "    plt.ylabel(\"True Label\")\n",
        "    plt.title(\"Confusion Matrix (Test Set)\")\n",
        "    plt.tight_layout()\n",
        "    plt.show()\n",
        "\n",
        "    print(classification_report(all_targets , all_preds))\n",
        "    return {\n",
        "        \"accuracy\": acc,\n",
        "        \"precision\": prec,\n",
        "        \"recall\": rec,\n",
        "        \"f1\": f1,\n",
        "        \"roc_auc\": roc,\n",
        "    }"
      ]
    },
    {
      "cell_type": "code",
      "execution_count": null,
      "metadata": {
        "colab": {
          "base_uri": "https://localhost:8080/",
          "height": 1000
        },
        "id": "DZZ6K2XMpiP0",
        "outputId": "5a354336-8785-4e3d-c73a-c37172920da0"
      },
      "outputs": [
        {
          "output_type": "stream",
          "name": "stdout",
          "text": [
            "Training on original imbalanced data:\n"
          ]
        },
        {
          "output_type": "stream",
          "name": "stderr",
          "text": []
        },
        {
          "output_type": "stream",
          "name": "stdout",
          "text": [
            "Epoch 1 | Train Loss: 0.6225 | Val Loss: 0.6044\n"
          ]
        },
        {
          "output_type": "stream",
          "name": "stderr",
          "text": []
        },
        {
          "output_type": "stream",
          "name": "stdout",
          "text": [
            "Epoch 2 | Train Loss: 0.6082 | Val Loss: 0.5974\n"
          ]
        },
        {
          "output_type": "stream",
          "name": "stderr",
          "text": []
        },
        {
          "output_type": "stream",
          "name": "stdout",
          "text": [
            "Epoch 3 | Train Loss: 0.5987 | Val Loss: 0.5834\n"
          ]
        },
        {
          "output_type": "stream",
          "name": "stderr",
          "text": []
        },
        {
          "output_type": "stream",
          "name": "stdout",
          "text": [
            "Epoch 4 | Train Loss: 0.5913 | Val Loss: 0.5838\n"
          ]
        },
        {
          "output_type": "stream",
          "name": "stderr",
          "text": []
        },
        {
          "output_type": "stream",
          "name": "stdout",
          "text": [
            "Epoch 5 | Train Loss: 0.5854 | Val Loss: 0.5831\n"
          ]
        },
        {
          "output_type": "stream",
          "name": "stderr",
          "text": []
        },
        {
          "output_type": "stream",
          "name": "stdout",
          "text": [
            "Epoch 6 | Train Loss: 0.5813 | Val Loss: 0.5807\n"
          ]
        },
        {
          "output_type": "stream",
          "name": "stderr",
          "text": []
        },
        {
          "output_type": "stream",
          "name": "stdout",
          "text": [
            "Epoch 7 | Train Loss: 0.5752 | Val Loss: 0.5763\n"
          ]
        },
        {
          "output_type": "stream",
          "name": "stderr",
          "text": []
        },
        {
          "output_type": "stream",
          "name": "stdout",
          "text": [
            "Epoch 8 | Train Loss: 0.5710 | Val Loss: 0.5697\n"
          ]
        },
        {
          "output_type": "stream",
          "name": "stderr",
          "text": []
        },
        {
          "output_type": "stream",
          "name": "stdout",
          "text": [
            "Epoch 9 | Train Loss: 0.5686 | Val Loss: 0.5731\n"
          ]
        },
        {
          "output_type": "stream",
          "name": "stderr",
          "text": []
        },
        {
          "output_type": "stream",
          "name": "stdout",
          "text": [
            "Epoch 10 | Train Loss: 0.5645 | Val Loss: 0.5703\n"
          ]
        },
        {
          "output_type": "stream",
          "name": "stderr",
          "text": []
        },
        {
          "output_type": "stream",
          "name": "stdout",
          "text": [
            "Epoch 11 | Train Loss: 0.5617 | Val Loss: 0.5666\n"
          ]
        },
        {
          "output_type": "stream",
          "name": "stderr",
          "text": []
        },
        {
          "output_type": "stream",
          "name": "stdout",
          "text": [
            "Epoch 12 | Train Loss: 0.5578 | Val Loss: 0.6500\n"
          ]
        },
        {
          "output_type": "stream",
          "name": "stderr",
          "text": []
        },
        {
          "output_type": "stream",
          "name": "stdout",
          "text": [
            "Epoch 13 | Train Loss: 0.5571 | Val Loss: 0.5892\n"
          ]
        },
        {
          "output_type": "stream",
          "name": "stderr",
          "text": []
        },
        {
          "output_type": "stream",
          "name": "stdout",
          "text": [
            "Epoch 14 | Train Loss: 0.5497 | Val Loss: 0.6314\n"
          ]
        },
        {
          "output_type": "stream",
          "name": "stderr",
          "text": []
        },
        {
          "output_type": "stream",
          "name": "stdout",
          "text": [
            "Epoch 15 | Train Loss: 0.5484 | Val Loss: 0.6301\n"
          ]
        },
        {
          "output_type": "stream",
          "name": "stderr",
          "text": []
        },
        {
          "output_type": "stream",
          "name": "stdout",
          "text": [
            "Epoch 16 | Train Loss: 0.5439 | Val Loss: 0.6270\n"
          ]
        },
        {
          "output_type": "stream",
          "name": "stderr",
          "text": []
        },
        {
          "output_type": "stream",
          "name": "stdout",
          "text": [
            "Epoch 17 | Train Loss: 0.5431 | Val Loss: 0.6484\n"
          ]
        },
        {
          "output_type": "stream",
          "name": "stderr",
          "text": []
        },
        {
          "output_type": "stream",
          "name": "stdout",
          "text": [
            "Epoch 18 | Train Loss: 0.5412 | Val Loss: 0.6268\n"
          ]
        },
        {
          "output_type": "stream",
          "name": "stderr",
          "text": []
        },
        {
          "output_type": "stream",
          "name": "stdout",
          "text": [
            "Epoch 19 | Train Loss: 0.5363 | Val Loss: 0.6287\n"
          ]
        },
        {
          "output_type": "stream",
          "name": "stderr",
          "text": []
        },
        {
          "output_type": "stream",
          "name": "stdout",
          "text": [
            "Epoch 20 | Train Loss: 0.5352 | Val Loss: 0.6257\n"
          ]
        },
        {
          "output_type": "display_data",
          "data": {
            "text/plain": [
              "<Figure size 700x400 with 1 Axes>"
            ],
            "image/png": "[encoded data removed]"
          },
          "metadata": {}
        },
        {
          "output_type": "stream",
          "name": "stdout",
          "text": [
            "\n",
            "Final Evaluation:\n",
            "Accuracy     : 0.7255\n",
            "Precision    : 0.7771\n",
            "Recall       : 0.2881\n",
            "F1 Score     : 0.4204\n",
            "ROC AUC      : 0.7599\n"
          ]
        },
        {
          "output_type": "display_data",
          "data": {
            "text/plain": [
              "<Figure size 300x200 with 2 Axes>"
            ],
            "image/png": "[encoded data removed]"
          },
          "metadata": {}
        },
        {
          "output_type": "stream",
          "name": "stdout",
          "text": [
            "              precision    recall  f1-score   support\n",
            "\n",
            "         0.0       0.72      0.96      0.82       894\n",
            "         1.0       0.78      0.29      0.42       472\n",
            "\n",
            "    accuracy                           0.73      1366\n",
            "   macro avg       0.75      0.62      0.62      1366\n",
            "weighted avg       0.74      0.73      0.68      1366\n",
            "\n",
            "==============================================================================\n",
            "\n",
            " Training on SMOTE-resampled data:\n"
          ]
        },
        {
          "output_type": "stream",
          "name": "stderr",
          "text": []
        },
        {
          "output_type": "stream",
          "name": "stdout",
          "text": [
            "Epoch 1 | Train Loss: 0.6634 | Val Loss: 0.6634\n"
          ]
        },
        {
          "output_type": "stream",
          "name": "stderr",
          "text": []
        },
        {
          "output_type": "stream",
          "name": "stdout",
          "text": [
            "Epoch 2 | Train Loss: 0.6415 | Val Loss: 0.6235\n"
          ]
        },
        {
          "output_type": "stream",
          "name": "stderr",
          "text": []
        },
        {
          "output_type": "stream",
          "name": "stdout",
          "text": [
            "Epoch 3 | Train Loss: 0.6270 | Val Loss: 0.6111\n"
          ]
        },
        {
          "output_type": "stream",
          "name": "stderr",
          "text": []
        },
        {
          "output_type": "stream",
          "name": "stdout",
          "text": [
            "Epoch 4 | Train Loss: 0.6181 | Val Loss: 0.5919\n"
          ]
        },
        {
          "output_type": "stream",
          "name": "stderr",
          "text": []
        },
        {
          "output_type": "stream",
          "name": "stdout",
          "text": [
            "Epoch 5 | Train Loss: 0.6099 | Val Loss: 0.6002\n"
          ]
        },
        {
          "output_type": "stream",
          "name": "stderr",
          "text": []
        },
        {
          "output_type": "stream",
          "name": "stdout",
          "text": [
            "Epoch 6 | Train Loss: 0.6021 | Val Loss: 0.6044\n"
          ]
        },
        {
          "output_type": "stream",
          "name": "stderr",
          "text": []
        },
        {
          "output_type": "stream",
          "name": "stdout",
          "text": [
            "Epoch 7 | Train Loss: 0.5981 | Val Loss: 0.5978\n"
          ]
        },
        {
          "output_type": "stream",
          "name": "stderr",
          "text": []
        },
        {
          "output_type": "stream",
          "name": "stdout",
          "text": [
            "Epoch 8 | Train Loss: 0.5882 | Val Loss: 0.5788\n"
          ]
        },
        {
          "output_type": "stream",
          "name": "stderr",
          "text": []
        },
        {
          "output_type": "stream",
          "name": "stdout",
          "text": [
            "Epoch 9 | Train Loss: 0.5819 | Val Loss: 0.6455\n"
          ]
        },
        {
          "output_type": "stream",
          "name": "stderr",
          "text": []
        },
        {
          "output_type": "stream",
          "name": "stdout",
          "text": [
            "Epoch 10 | Train Loss: 0.5755 | Val Loss: 0.5879\n"
          ]
        },
        {
          "output_type": "stream",
          "name": "stderr",
          "text": []
        },
        {
          "output_type": "stream",
          "name": "stdout",
          "text": [
            "Epoch 11 | Train Loss: 0.5704 | Val Loss: 0.5970\n"
          ]
        },
        {
          "output_type": "stream",
          "name": "stderr",
          "text": []
        },
        {
          "output_type": "stream",
          "name": "stdout",
          "text": [
            "Epoch 12 | Train Loss: 0.5630 | Val Loss: 0.6787\n"
          ]
        },
        {
          "output_type": "stream",
          "name": "stderr",
          "text": []
        },
        {
          "output_type": "stream",
          "name": "stdout",
          "text": [
            "Epoch 13 | Train Loss: 0.5604 | Val Loss: 0.5934\n"
          ]
        },
        {
          "output_type": "stream",
          "name": "stderr",
          "text": []
        },
        {
          "output_type": "stream",
          "name": "stdout",
          "text": [
            "Epoch 14 | Train Loss: 0.5554 | Val Loss: 0.5986\n"
          ]
        },
        {
          "output_type": "stream",
          "name": "stderr",
          "text": []
        },
        {
          "output_type": "stream",
          "name": "stdout",
          "text": [
            "Epoch 15 | Train Loss: 0.5480 | Val Loss: 0.6473\n"
          ]
        },
        {
          "output_type": "stream",
          "name": "stderr",
          "text": []
        },
        {
          "output_type": "stream",
          "name": "stdout",
          "text": [
            "Epoch 16 | Train Loss: 0.5437 | Val Loss: 0.6603\n"
          ]
        },
        {
          "output_type": "stream",
          "name": "stderr",
          "text": []
        },
        {
          "output_type": "stream",
          "name": "stdout",
          "text": [
            "Epoch 17 | Train Loss: 0.5353 | Val Loss: 0.6620\n"
          ]
        },
        {
          "output_type": "stream",
          "name": "stderr",
          "text": []
        },
        {
          "output_type": "stream",
          "name": "stdout",
          "text": [
            "Epoch 18 | Train Loss: 0.5321 | Val Loss: 0.6386\n"
          ]
        },
        {
          "output_type": "stream",
          "name": "stderr",
          "text": []
        },
        {
          "output_type": "stream",
          "name": "stdout",
          "text": [
            "Epoch 19 | Train Loss: 0.5281 | Val Loss: 0.6267\n"
          ]
        },
        {
          "output_type": "stream",
          "name": "stderr",
          "text": []
        },
        {
          "output_type": "stream",
          "name": "stdout",
          "text": [
            "Epoch 20 | Train Loss: 0.5233 | Val Loss: 0.6354\n"
          ]
        },
        {
          "output_type": "display_data",
          "data": {
            "text/plain": [
              "<Figure size 700x400 with 1 Axes>"
            ],
            "image/png": "[encoded data removed]"
          },
          "metadata": {}
        },
        {
          "output_type": "stream",
          "name": "stdout",
          "text": [
            "\n",
            "Final Evaluation:\n",
            "Accuracy     : 0.6991\n",
            "Precision    : 0.5480\n",
            "Recall       : 0.7373\n",
            "F1 Score     : 0.6287\n",
            "ROC AUC      : 0.7858\n"
          ]
        },
        {
          "output_type": "display_data",
          "data": {
            "text/plain": [
              "<Figure size 300x200 with 2 Axes>"
            ],
            "image/png": "[encoded data removed]"
          },
          "metadata": {}
        },
        {
          "output_type": "stream",
          "name": "stdout",
          "text": [
            "              precision    recall  f1-score   support\n",
            "\n",
            "         0.0       0.83      0.68      0.75       894\n",
            "         1.0       0.55      0.74      0.63       472\n",
            "\n",
            "    accuracy                           0.70      1366\n",
            "   macro avg       0.69      0.71      0.69      1366\n",
            "weighted avg       0.73      0.70      0.71      1366\n",
            "\n"
          ]
        }
      ],
      "source": [
        "print(\"Training on original imbalanced data:\")\n",
        "metrics_baseline = train_and_evaluate_model(train_loader, val_loader, final_test_loader, embedding_dim)\n",
        "print(\"==============================================================================\")\n",
        "print(\"\\n Training on SMOTE-resampled data:\")\n",
        "metrics_smote = train_and_evaluate_model(resampled_loader, val_loader, final_test_loader, embedding_dim)"
      ]
    },
    {
      "cell_type": "code",
      "execution_count": null,
      "metadata": {
        "colab": {
          "base_uri": "https://localhost:8080/"
        },
        "id": "VdCdnSCoqA0X",
        "outputId": "78432fa1-3af6-45a7-f24b-3aad78858c2d"
      },
      "outputs": [
        {
          "output_type": "stream",
          "name": "stdout",
          "text": [
            "      Metric  Baseline     SMOTE\n",
            "0   Accuracy  0.723280  0.734261\n",
            "1  Precision  0.699153  0.604207\n",
            "2     Recall  0.349576  0.669492\n",
            "3   F1 Score  0.466102  0.635176\n",
            "4    ROC AUC  0.765562  0.787194\n"
          ]
        }
      ],
      "source": [
        "metrics_df = pd.DataFrame({\n",
        "    \"Metric\": [\"Accuracy\", \"Precision\", \"Recall\", \"F1 Score\", \"ROC AUC\"],\n",
        "    \"Baseline\": [metrics_baseline[\"accuracy\"], metrics_baseline[\"precision\"],\n",
        "                 metrics_baseline[\"recall\"], metrics_baseline[\"f1\"], metrics_baseline[\"roc_auc\"]],\n",
        "    \"SMOTE\": [metrics_smote[\"accuracy\"], metrics_smote[\"precision\"],\n",
        "              metrics_smote[\"recall\"], metrics_smote[\"f1\"], metrics_smote[\"roc_auc\"]]\n",
        "})\n",
        "\n",
        "print(metrics_df)"
      ]
    },
    {
      "cell_type": "code",
      "execution_count": null,
      "metadata": {
        "id": "1lUzaf-WLGUK"
      },
      "outputs": [],
      "source": []
    }
  ],
  "metadata": {
    "colab": {
      "provenance": []
    },
    "kernelspec": {
      "display_name": "Python 3",
      "name": "python3"
    },
    "language_info": {
      "name": "python"
    }
  },
  "nbformat": 4,
  "nbformat_minor": 0
}